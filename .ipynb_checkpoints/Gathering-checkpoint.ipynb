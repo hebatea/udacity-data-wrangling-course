{
 "cells": [
  {
   "cell_type": "code",
   "execution_count": 1,
   "metadata": {},
   "outputs": [],
   "source": [
    "import pandas as pd\n",
    "from bs4 import BeautifulSoup\n",
    "import os\n",
    "import matplotlib.pyplot as plt \n",
    "%matplotlib inline\n"
   ]
  },
  {
   "cell_type": "code",
   "execution_count": 2,
   "metadata": {},
   "outputs": [
    {
     "data": {
      "text/html": [
       "<div>\n",
       "<style scoped>\n",
       "    .dataframe tbody tr th:only-of-type {\n",
       "        vertical-align: middle;\n",
       "    }\n",
       "\n",
       "    .dataframe tbody tr th {\n",
       "        vertical-align: top;\n",
       "    }\n",
       "\n",
       "    .dataframe thead th {\n",
       "        text-align: right;\n",
       "    }\n",
       "</style>\n",
       "<table border=\"1\" class=\"dataframe\">\n",
       "  <thead>\n",
       "    <tr style=\"text-align: right;\">\n",
       "      <th></th>\n",
       "      <th>ranking</th>\n",
       "      <th>critic_score</th>\n",
       "      <th>title</th>\n",
       "      <th>number_of_critic_ratings</th>\n",
       "    </tr>\n",
       "  </thead>\n",
       "  <tbody>\n",
       "    <tr>\n",
       "      <th>0</th>\n",
       "      <td>1</td>\n",
       "      <td>99</td>\n",
       "      <td>The Wizard of Oz (1939)</td>\n",
       "      <td>110</td>\n",
       "    </tr>\n",
       "    <tr>\n",
       "      <th>1</th>\n",
       "      <td>2</td>\n",
       "      <td>100</td>\n",
       "      <td>Citizen Kane (1941)</td>\n",
       "      <td>75</td>\n",
       "    </tr>\n",
       "    <tr>\n",
       "      <th>2</th>\n",
       "      <td>3</td>\n",
       "      <td>100</td>\n",
       "      <td>The Third Man (1949)</td>\n",
       "      <td>77</td>\n",
       "    </tr>\n",
       "    <tr>\n",
       "      <th>3</th>\n",
       "      <td>4</td>\n",
       "      <td>99</td>\n",
       "      <td>Get Out (2017)</td>\n",
       "      <td>282</td>\n",
       "    </tr>\n",
       "    <tr>\n",
       "      <th>4</th>\n",
       "      <td>5</td>\n",
       "      <td>97</td>\n",
       "      <td>Mad Max: Fury Road (2015)</td>\n",
       "      <td>370</td>\n",
       "    </tr>\n",
       "  </tbody>\n",
       "</table>\n",
       "</div>"
      ],
      "text/plain": [
       "   ranking  critic_score                      title  number_of_critic_ratings\n",
       "0        1            99    The Wizard of Oz (1939)                       110\n",
       "1        2           100        Citizen Kane (1941)                        75\n",
       "2        3           100       The Third Man (1949)                        77\n",
       "3        4            99             Get Out (2017)                       282\n",
       "4        5            97  Mad Max: Fury Road (2015)                       370"
      ]
     },
     "execution_count": 2,
     "metadata": {},
     "output_type": "execute_result"
    }
   ],
   "source": [
    "# Import the Rotten Tomatoes bestofrt TSV file into a DataFrame\n",
    "df = pd.read_csv(\"./data/bestofrt.tsv\", sep='\\t')\n",
    "\n",
    "# Check to see if the file was imported correctly\n",
    "df.head()"
   ]
  },
  {
   "cell_type": "code",
   "execution_count": 3,
   "metadata": {},
   "outputs": [],
   "source": [
    "import requests"
   ]
  },
  {
   "cell_type": "code",
   "execution_count": 4,
   "metadata": {},
   "outputs": [],
   "source": [
    "url = \"https://rottentomatoes.com/m/et_the_extraterrestrial\"\n",
    "\n",
    "response = requests.get(url)"
   ]
  },
  {
   "cell_type": "code",
   "execution_count": 5,
   "metadata": {},
   "outputs": [],
   "source": [
    "# Save HTML to file\n",
    "with open(\"et_the_extraterrestrial.html\", mode='wb') as file:\n",
    "    file.write(response.content)"
   ]
  },
  {
   "cell_type": "code",
   "execution_count": 6,
   "metadata": {},
   "outputs": [],
   "source": [
    "# Work with HTML in memory\n",
    "from bs4 import BeautifulSoup\n",
    "soup = BeautifulSoup(response.content)"
   ]
  },
  {
   "cell_type": "code",
   "execution_count": 7,
   "metadata": {},
   "outputs": [],
   "source": [
    "import zipfile\n",
    "with zipfile.ZipFile('./data/rt-html.zip', 'r') as myzip:\n",
    "    myzip.extractall('./data/')"
   ]
  },
  {
   "cell_type": "code",
   "execution_count": 8,
   "metadata": {},
   "outputs": [],
   "source": [
    "with open('./data/rt_html/et_the_extraterrestrial.html') as file:\n",
    "    soup = BeautifulSoup(file)"
   ]
  },
  {
   "cell_type": "markdown",
   "metadata": {},
   "source": [
    "### The task is to extract the title, audience score, and number of audience ratings in each HTML file so each trio can be appended as a dictionary to df_list."
   ]
  },
  {
   "cell_type": "code",
   "execution_count": 9,
   "metadata": {},
   "outputs": [],
   "source": [
    "# to find title\n",
    "soup.find('title') # to find the tag\n",
    "title = soup.find('title').contents[0][:-len(' - Rotten Tomatoes')] # to find the content of the tag"
   ]
  },
  {
   "cell_type": "code",
   "execution_count": 10,
   "metadata": {},
   "outputs": [
    {
     "name": "stdout",
     "output_type": "stream",
     "text": [
      "0.91\n"
     ]
    }
   ],
   "source": [
    "# to find audience score\n",
    "with open('./data/rt_html/1012007-laura.html') as file:\n",
    "    soup = BeautifulSoup(file)\n",
    "    audience_score = soup.find_all(attrs={\"class\": \"superPageFontColor\", \"style\":\"vertical-align:top\"})[0].contents[0][:-1]\n",
    "    number_of_audience_ratings = soup.find_all(attrs={\"class\": \"subtle superPageFontColor\"})\n",
    "    print(int(audience_score)/100)"
   ]
  },
  {
   "cell_type": "code",
   "execution_count": 11,
   "metadata": {},
   "outputs": [
    {
     "data": {
      "text/plain": [
       "10481"
      ]
     },
     "execution_count": 11,
     "metadata": {},
     "output_type": "execute_result"
    }
   ],
   "source": [
    "# to find number of audience ratings\n",
    "number_of_audience_ratings = soup.find_all(\"div\",class_= \"audience-info hidden-xs superPageFontColor\")[0].find_all(\"div\")[1].contents[2][len(\"\\n        \"):].replace(',', '')\n",
    "int(number_of_audience_ratings)"
   ]
  },
  {
   "cell_type": "code",
   "execution_count": 46,
   "metadata": {},
   "outputs": [],
   "source": [
    "# List of dictionaries to build file by file and later convert to a DataFrame\n",
    "df_list_soup = []\n",
    "folder = './data/rt_html'\n",
    "for movie_html in os.listdir(folder):\n",
    "    with open(os.path.join(folder, movie_html)) as file:\n",
    "        # Your code here\n",
    "        # Note: a correct implementation may take ~15 seconds to run\n",
    "        soup = BeautifulSoup(file, 'lxml')\n",
    "        title = soup.find('title').contents[0][:-len(' - Rotten Tomatoes')]\n",
    "        audience_score = soup.find_all(attrs={\"class\": \"superPageFontColor\", \"style\":\"vertical-align:top\"})[0].contents[0][:-1]\n",
    "        num_audience_ratings = soup.find_all(\"div\",class_= \"audience-info hidden-xs superPageFontColor\")[0].find_all(\"div\")[1].contents[2][len(\"\\n        \"):].replace(',', '')\n",
    "        # Append to list of dictionaries\n",
    "        df_list_soup.append({'title': title,\n",
    "                        'audience_score': int(audience_score),\n",
    "                        'number_of_audience_ratings': int(num_audience_ratings)})\n"
   ]
  },
  {
   "cell_type": "code",
   "execution_count": 47,
   "metadata": {},
   "outputs": [
    {
     "data": {
      "text/html": [
       "<div>\n",
       "<style scoped>\n",
       "    .dataframe tbody tr th:only-of-type {\n",
       "        vertical-align: middle;\n",
       "    }\n",
       "\n",
       "    .dataframe tbody tr th {\n",
       "        vertical-align: top;\n",
       "    }\n",
       "\n",
       "    .dataframe thead th {\n",
       "        text-align: right;\n",
       "    }\n",
       "</style>\n",
       "<table border=\"1\" class=\"dataframe\">\n",
       "  <thead>\n",
       "    <tr style=\"text-align: right;\">\n",
       "      <th></th>\n",
       "      <th>title</th>\n",
       "      <th>audience_score</th>\n",
       "      <th>number_of_audience_ratings</th>\n",
       "    </tr>\n",
       "  </thead>\n",
       "  <tbody>\n",
       "    <tr>\n",
       "      <th>0</th>\n",
       "      <td>12 Angry Men (Twelve Angry Men) (1957)</td>\n",
       "      <td>97</td>\n",
       "      <td>103672</td>\n",
       "    </tr>\n",
       "    <tr>\n",
       "      <th>1</th>\n",
       "      <td>The 39 Steps (1935)</td>\n",
       "      <td>86</td>\n",
       "      <td>23647</td>\n",
       "    </tr>\n",
       "    <tr>\n",
       "      <th>2</th>\n",
       "      <td>The Adventures of Robin Hood (1938)</td>\n",
       "      <td>89</td>\n",
       "      <td>33584</td>\n",
       "    </tr>\n",
       "    <tr>\n",
       "      <th>3</th>\n",
       "      <td>All About Eve (1950)</td>\n",
       "      <td>94</td>\n",
       "      <td>44564</td>\n",
       "    </tr>\n",
       "    <tr>\n",
       "      <th>4</th>\n",
       "      <td>All Quiet on the Western Front (1930)</td>\n",
       "      <td>89</td>\n",
       "      <td>17768</td>\n",
       "    </tr>\n",
       "  </tbody>\n",
       "</table>\n",
       "</div>"
      ],
      "text/plain": [
       "                                    title  audience_score  \\\n",
       "0  12 Angry Men (Twelve Angry Men) (1957)              97   \n",
       "1                     The 39 Steps (1935)              86   \n",
       "2     The Adventures of Robin Hood (1938)              89   \n",
       "3                    All About Eve (1950)              94   \n",
       "4   All Quiet on the Western Front (1930)              89   \n",
       "\n",
       "   number_of_audience_ratings  \n",
       "0                      103672  \n",
       "1                       23647  \n",
       "2                       33584  \n",
       "3                       44564  \n",
       "4                       17768  "
      ]
     },
     "execution_count": 47,
     "metadata": {},
     "output_type": "execute_result"
    }
   ],
   "source": [
    "df_soup = pd.DataFrame(df_list_soup, columns = ['title', 'audience_score', 'number_of_audience_ratings'])\n",
    "df_soup.head()"
   ]
  },
  {
   "cell_type": "markdown",
   "metadata": {},
   "source": [
    "### Downloading Files from the Internet"
   ]
  },
  {
   "cell_type": "code",
   "execution_count": 13,
   "metadata": {},
   "outputs": [],
   "source": [
    "import requests\n",
    "import os"
   ]
  },
  {
   "cell_type": "code",
   "execution_count": 14,
   "metadata": {},
   "outputs": [
    {
     "data": {
      "text/plain": [
       "<Response [200]>"
      ]
     },
     "execution_count": 14,
     "metadata": {},
     "output_type": "execute_result"
    }
   ],
   "source": [
    "#folder location and name to be saved on it \n",
    "folder_name = './data/ebert_reviews'\n",
    "\n",
    "# create the folder if it is not exist\n",
    "if not os.path.exists(folder_name):\n",
    "    os.makedirs(folder_name)\n",
    "\n",
    "# requset on url to get the response\n",
    "url = 'https://d17h27t6h515a5.cloudfront.net/topher/2017/September/59ad9900_1-the-wizard-of-oz-1939-film/1-the-wizard-of-oz-1939-film.txt'\n",
    "response = requests.get(url)\n",
    "response"
   ]
  },
  {
   "cell_type": "code",
   "execution_count": 15,
   "metadata": {},
   "outputs": [
    {
     "data": {
      "text/plain": [
       "b'The Wizard of Oz (1939)\\nhttp://www.rogerebert.com/reviews/great-movie-the-wizard-of-oz-1939\\nAs a child I simply did not notice whether a movie was in color or not. The movies themselves were such an overwhelming mystery that if they wanted to be in black and white, that was their business. It was not until I saw \"The Wizard of Oz\" for the first time that I consciously noticed B&W versus color, as Dorothy was blown out of Kansas and into Oz. What did I think? It made good sense to me.\\n\\nThe switch from black and white to color would have had a special resonance in 1939, when the movie was made. Almost all films were still being made in black and white, and the cumbersome new color cameras came with a \\xe2\\x80\\x9cTechnicolor consultant\\xe2\\x80\\x9d from the factory, who stood next to the cinematographer and officiously suggested higher light levels. Shooting in color might have been indicated because the film was MGM\\'s response to the huge success of Disney\\'s pioneering color animated feature, \"Snow White and the Seven Dwarfs\" (1937).\\n\\nIf \\xe2\\x80\\x9cWizard\\xe2\\x80\\x9d began in one way and continued in another, that was also the history of the production. Richard Thorpe, the original director, was fired after 12 days. George Cukor filled in for three days, long enough to tell Judy Garland to lose the wig and the makeup, and then Victor Fleming took over. When Fleming went to \\xe2\\x80\\x9cGone With the Wind,\\xe2\\x80\\x9d King Vidor did some of the Munchkin sequences, and the Kansas scenes.\\n\\nThere were cast changes, too; after Buddy Ebsen, as the Tin Man, had an allergic reaction to the silvery makeup, he was replaced by Jack Haley. Musical numbers were recorded and never used. Margaret Hamilton (the Wicked Witch of the West) was seriously burned when she went up in a puff of smoke. Even Toto was out of commission for two weeks after being stepped on by a crewmember.\\n\\nWe study all of these details, I think, because \\xe2\\x80\\x9cThe Wizard of Oz\\xe2\\x80\\x9d fills such a large space in our imagination. It somehow seems real and important in a way most movies don\\'t. Is that because we see it first when we\\xe2\\x80\\x99re young? Or simply because it is a wonderful movie? Or because it sounds some buried universal note, some archetype or deeply felt myth?\\n\\nI lean toward the third possibility, that the elements in \\xe2\\x80\\x9cThe Wizard of Oz\\xe2\\x80\\x9d powerfully fill a void that exists inside many children. For kids of a certain age, home is everything, the center of the world. But over the rainbow, dimly guessed at, is the wide earth, fascinating and terrifying. There is a deep fundamental fear that events might conspire to transport the child from the safety of home and strand him far away in a strange land. And what would he hope to find there? Why, new friends, to advise and protect him. And Toto, of course, because children have such a strong symbiotic relationship with their pets that they assume they would get lost together.\\n\\nThis deep universal appeal explains why so many different people from many backgrounds have a compartment of their memory reserved for \\xe2\\x80\\x9cThe Wizard of Oz.\\xe2\\x80\\x9d Salman Rushdie, growing up in Bombay, remembers that seeing the film at 10 \\xe2\\x80\\x9cmade a writer of me.\\xe2\\x80\\x9d Terry McMillan, as an African-American child in northern Michigan, \\xe2\\x80\\x9ccompletely identified when no one had time to listen to Dorothy.\\xe2\\x80\\x9d Rushdie wrote that the film\\'s \\xe2\\x80\\x9cdriving force is the inadequacy of adults, even of good adults, and how the weakness of grownups forces children to take control of their own destinies.\\xe2\\x80\\x9d McMillan learned about courage, about \\xe2\\x80\\x9cbeing afraid but doing whatever it was you set out to do anyway.\\xe2\\x80\\x9d\\n\\nThey\\'re touching on the key lesson of childhood, which is that someday the child will not be a child, that home will no longer exist, that adults will be no help because now the child is an adult and must face the challenges of life alone. But that you can ask friends to help you. And that even the Wizard of Oz is only human, and has problems of his own.\\n\\n\\xe2\\x80\\x9cThe Wizard of Oz\\xe2\\x80\\x9d has a wonderful surface of comedy and music, special effects and excitement, but we still watch it six decades later because its underlying story penetrates straight to the deepest insecurities of childhood, stirs them and then reassures them. As adults, we love it because it reminds us of a journey we have taken. That is why any adult in control of a child is sooner or later going to suggest a viewing of \\xe2\\x80\\x9cThe Wizard of Oz.\\xe2\\x80\\x9d\\n\\nJudy Garland had, I gather, an unhappy childhood (there are those stories about MGM quacks shooting her full of speed in the morning and tranquilizers at day\\'s end), but she was a luminous performer, already almost17 when she played young Dorothy. She was important to the movie because she projected vulnerability and a certain sadness in every tone of her voice. A brassy young child star (a young Ethel Merman, say) would have been fatal to the material because she would have approached it with too much bravado. Garland\\xe2\\x80\\x99s whole persona projected a tremulous uncertainty, a wistfulness. When she hoped that troubles would melt like lemon drops, you believed she had troubles.\\n\\nHer friends on the Yellow Brick Road (the Tin Man, the Scarecrow, the Cowardly Lion) were projections of every child\\'s secret fears. Are we real? Are we ugly and silly? Are we brave enough? In helping them, Dorothy was helping herself, just as an older child will overcome fears by acting brave before a younger one.\\n\\nThe actors (Jack Haley, Ray Bolger, Bert Lahr) had all come up through a tradition of vaudeville and revue comedy, and played the characters with a sublime unself-consciousness. Maybe it helped that none of them knew they were making a great movie. They seem relaxed and loose in many scenes, as if the roles were a lark. L. Frank Baum\\'s book had been filmed before (Oliver Hardy played the Tin Man in 1925), and this version, while ambitious, was overshadowed by the studio\\'s simultaneous preparation of \\xe2\\x80\\x9cGone With the Wind.\\xe2\\x80\\x9d Garland was already a star when she made \\xe2\\x80\\x9cWizard,\\xe2\\x80\\x9d but not a great star--that came in the 1940s, inspired by \\xe2\\x80\\x9cWizard.\\xe2\\x80\\x9d\\n\\nThe special effects are glorious in that old Hollywood way, in which you don\\'t even have to look closely to see where the set ends and the backdrop begins. Modern special effects show *exactly* how imaginary scenes might look; effects then showed how we *thought* about them. A bigger Yellow Brick Road would not have been a better one.\\n\\nThe movie\\'s storytelling device of a dream is just precisely obvious enough to appeal to younger viewers. Dorothy, faced with a crisis (the loss of Toto), meets the intriguing Professor Marvel (Frank Morgan) on the road. She is befriended by three farm hands (Bolger, Haley and Lahr). Soon comes the fearsome tornado. (What frightened me was that you could see individual things floating by--for months I dreamed circling around and around while seated at the little desk in my bedroom, looking at classmates being swept mutely past me.) Then, after the magical transition to color, Dorothy meets the same characters again, so we know it\\'s all a dream, but not really.\\n\\nThere are good and bad adult figures in Oz--the Wicked Witches of the East and West, the Good Witch Glinda. Dorothy would like help from her friends but needs to help them instead (\\xe2\\x80\\x9cIf I Only Had a Brain,\\xe2\\x80\\x9d or a heart, or nerve, they sing). Arriving at last at the Emerald City, they have another dreamlike experience; almost everyone they meet seems vaguely similar (because they\\xe2\\x80\\x99re all played by Morgan). The Wizard sends them on a mission to get the Wicked Witch\\'s broom, and it is not insignificant that the key to Dorothy\\xe2\\x80\\x99s return to Kansas is the pair of ruby slippers. Grownup shoes.\\n\\nThe ending has always seemed poignant to me. Dorothy is back in Kansas, but the color has drained from the film, and her magical friends are mundane once again. \\xe2\\x80\\x9cThe land of Oz wasn\\'t such a bad place to be stuck in,\\xe2\\x80\\x9d decided young Terry McMillan, discontented with her life in Michigan. \\xe2\\x80\\x9cIt beat the farm in Kansas.\\xe2\\x80\\x9d'"
      ]
     },
     "execution_count": 15,
     "metadata": {},
     "output_type": "execute_result"
    }
   ],
   "source": [
    "# to see the response content -> the response content is in bytes\n",
    "response.content"
   ]
  },
  {
   "cell_type": "code",
   "execution_count": 16,
   "metadata": {},
   "outputs": [],
   "source": [
    "# wb -> open the file with write binary mode because the response content is in bytes\n",
    "with open(os.path.join(folder_name, url.split('/')[-1]), 'wb') as file:\n",
    "    file.write(response.content)"
   ]
  },
  {
   "cell_type": "code",
   "execution_count": 17,
   "metadata": {},
   "outputs": [
    {
     "data": {
      "text/plain": [
       "['1-the-wizard-of-oz-1939-film.txt',\n",
       " '10-metropolis-1927-film.txt',\n",
       " '100-battleship-potemkin.txt',\n",
       " '11-e.t.-the-extra-terrestrial.txt',\n",
       " '12-modern-times-film.txt',\n",
       " '14-singin-in-the-rain.txt',\n",
       " '15-boyhood-film.txt',\n",
       " '16-casablanca-film.txt',\n",
       " '17-moonlight-2016-film.txt',\n",
       " '18-psycho-1960-film.txt',\n",
       " '19-laura-1944-film.txt',\n",
       " '2-citizen-kane.txt',\n",
       " '20-nosferatu.txt',\n",
       " '21-snow-white-and-the-seven-dwarfs-1937-film.txt',\n",
       " '22-a-hard-day27s-night-film.txt',\n",
       " '23-la-grande-illusion.txt',\n",
       " '25-the-battle-of-algiers.txt',\n",
       " '26-dunkirk-2017-film.txt',\n",
       " '27-the-maltese-falcon-1941-film.txt',\n",
       " '29-12-years-a-slave-film.txt',\n",
       " '3-the-third-man.txt',\n",
       " '30-gravity-2013-film.txt',\n",
       " '31-sunset-boulevard-film.txt',\n",
       " '32-king-kong-1933-film.txt',\n",
       " '33-spotlight-film.txt',\n",
       " '34-the-adventures-of-robin-hood.txt',\n",
       " '35-rashomon.txt',\n",
       " '36-rear-window.txt',\n",
       " '37-selma-film.txt',\n",
       " '38-taxi-driver.txt',\n",
       " '39-toy-story-3.txt',\n",
       " '4-get-out-film.txt',\n",
       " '40-argo-2012-film.txt',\n",
       " '41-toy-story-2.txt',\n",
       " '42-the-big-sick.txt',\n",
       " '43-bride-of-frankenstein.txt',\n",
       " '44-zootopia.txt',\n",
       " '45-m-1931-film.txt',\n",
       " '46-wonder-woman-2017-film.txt',\n",
       " '48-alien-film.txt',\n",
       " '49-bicycle-thieves.txt',\n",
       " '5-mad-max-fury-road.txt',\n",
       " '50-seven-samurai.txt',\n",
       " '51-the-treasure-of-the-sierra-madre-film.txt',\n",
       " '52-up-2009-film.txt',\n",
       " '53-12-angry-men-1957-film.txt',\n",
       " '54-the-400-blows.txt',\n",
       " '55-logan-film.txt',\n",
       " '57-army-of-shadows.txt',\n",
       " '58-arrival-film.txt',\n",
       " '59-baby-driver.txt',\n",
       " '6-the-cabinet-of-dr.-caligari.txt',\n",
       " '60-a-streetcar-named-desire-1951-film.txt',\n",
       " '61-the-night-of-the-hunter-film.txt',\n",
       " '62-star-wars-the-force-awakens.txt',\n",
       " '63-manchester-by-the-sea-film.txt',\n",
       " '64-dr.-strangelove.txt',\n",
       " '66-vertigo-film.txt',\n",
       " '67-the-dark-knight-film.txt',\n",
       " '68-touch-of-evil.txt',\n",
       " '69-the-babadook.txt',\n",
       " '7-all-about-eve.txt',\n",
       " '72-rosemary27s-baby-film.txt',\n",
       " '73-finding-nemo.txt',\n",
       " '74-brooklyn-film.txt',\n",
       " '75-the-wrestler-2008-film.txt',\n",
       " '77-l.a.-confidential-film.txt',\n",
       " '78-gone-with-the-wind-film.txt',\n",
       " '79-the-good-the-bad-and-the-ugly.txt',\n",
       " '8-inside-out-2015-film.txt',\n",
       " '80-skyfall.txt',\n",
       " '82-tokyo-story.txt',\n",
       " '83-hell-or-high-water-film.txt',\n",
       " '84-pinocchio-1940-film.txt',\n",
       " '85-the-jungle-book-2016-film.txt',\n",
       " '86-la-la-land-film.txt',\n",
       " '87-star-trek-film.txt',\n",
       " '89-apocalypse-now.txt',\n",
       " '9-the-godfather.txt',\n",
       " '90-on-the-waterfront.txt',\n",
       " '91-the-wages-of-fear.txt',\n",
       " '92-the-last-picture-show.txt',\n",
       " '93-harry-potter-and-the-deathly-hallows-part-2.txt',\n",
       " '94-the-grapes-of-wrath-film.txt',\n",
       " '96-man-on-wire.txt',\n",
       " '97-jaws-film.txt',\n",
       " '98-toy-story.txt',\n",
       " '99-the-godfather-part-ii.txt']"
      ]
     },
     "execution_count": 17,
     "metadata": {},
     "output_type": "execute_result"
    }
   ],
   "source": [
    "# review ebert_reviews folder to make sure this worked\n",
    "os.listdir(folder_name)"
   ]
  },
  {
   "cell_type": "markdown",
   "metadata": {},
   "source": [
    "### Quiz\n",
    "**In the Jupyter Notebook below, programmatically download all of the Roger Ebert review text files to a folder called ebert_reviews using the Requests library. Use a for loop in conjunction with the provided ebert_review_urls list.**"
   ]
  },
  {
   "cell_type": "code",
   "execution_count": 51,
   "metadata": {},
   "outputs": [],
   "source": [
    "ebert_review_urls = ['https://d17h27t6h515a5.cloudfront.net/topher/2017/September/59ad9900_1-the-wizard-of-oz-1939-film/1-the-wizard-of-oz-1939-film.txt',\n",
    "                     'https://d17h27t6h515a5.cloudfront.net/topher/2017/September/59ad9901_2-citizen-kane/2-citizen-kane.txt',\n",
    "                     'https://d17h27t6h515a5.cloudfront.net/topher/2017/September/59ad9901_3-the-third-man/3-the-third-man.txt',\n",
    "                     'https://d17h27t6h515a5.cloudfront.net/topher/2017/September/59ad9902_4-get-out-film/4-get-out-film.txt',\n",
    "                     'https://d17h27t6h515a5.cloudfront.net/topher/2017/September/59ad9902_5-mad-max-fury-road/5-mad-max-fury-road.txt',\n",
    "                     'https://d17h27t6h515a5.cloudfront.net/topher/2017/September/59ad9902_6-the-cabinet-of-dr.-caligari/6-the-cabinet-of-dr.-caligari.txt',\n",
    "                     'https://d17h27t6h515a5.cloudfront.net/topher/2017/September/59ad9903_7-all-about-eve/7-all-about-eve.txt',\n",
    "                     'https://d17h27t6h515a5.cloudfront.net/topher/2017/September/59ad9903_8-inside-out-2015-film/8-inside-out-2015-film.txt',\n",
    "                     'https://d17h27t6h515a5.cloudfront.net/topher/2017/September/59ad9903_9-the-godfather/9-the-godfather.txt',\n",
    "                     'https://d17h27t6h515a5.cloudfront.net/topher/2017/September/59ad9904_10-metropolis-1927-film/10-metropolis-1927-film.txt',\n",
    "                     'https://d17h27t6h515a5.cloudfront.net/topher/2017/September/59ad9904_11-e.t.-the-extra-terrestrial/11-e.t.-the-extra-terrestrial.txt',\n",
    "                     'https://d17h27t6h515a5.cloudfront.net/topher/2017/September/59ad9904_12-modern-times-film/12-modern-times-film.txt',\n",
    "                     'https://d17h27t6h515a5.cloudfront.net/topher/2017/September/59ad9904_14-singin-in-the-rain/14-singin-in-the-rain.txt',\n",
    "                     'https://d17h27t6h515a5.cloudfront.net/topher/2017/September/59ad9905_15-boyhood-film/15-boyhood-film.txt',\n",
    "                     'https://d17h27t6h515a5.cloudfront.net/topher/2017/September/59ad9905_16-casablanca-film/16-casablanca-film.txt',\n",
    "                     'https://d17h27t6h515a5.cloudfront.net/topher/2017/September/59ad9905_17-moonlight-2016-film/17-moonlight-2016-film.txt',\n",
    "                     'https://d17h27t6h515a5.cloudfront.net/topher/2017/September/59ad9906_18-psycho-1960-film/18-psycho-1960-film.txt',\n",
    "                     'https://d17h27t6h515a5.cloudfront.net/topher/2017/September/59ad9906_19-laura-1944-film/19-laura-1944-film.txt',\n",
    "                     'https://d17h27t6h515a5.cloudfront.net/topher/2017/September/59ad9906_20-nosferatu/20-nosferatu.txt',\n",
    "                     'https://d17h27t6h515a5.cloudfront.net/topher/2017/September/59ad9907_21-snow-white-and-the-seven-dwarfs-1937-film/21-snow-white-and-the-seven-dwarfs-1937-film.txt',\n",
    "                     'https://d17h27t6h515a5.cloudfront.net/topher/2017/September/59ad9907_22-a-hard-day27s-night-film/22-a-hard-day27s-night-film.txt',\n",
    "                     'https://d17h27t6h515a5.cloudfront.net/topher/2017/September/59ad9907_23-la-grande-illusion/23-la-grande-illusion.txt',\n",
    "                     'https://d17h27t6h515a5.cloudfront.net/topher/2017/September/59ad9908_25-the-battle-of-algiers/25-the-battle-of-algiers.txt',\n",
    "                     'https://d17h27t6h515a5.cloudfront.net/topher/2017/September/59ad9908_26-dunkirk-2017-film/26-dunkirk-2017-film.txt',\n",
    "                     'https://d17h27t6h515a5.cloudfront.net/topher/2017/September/59ad9908_27-the-maltese-falcon-1941-film/27-the-maltese-falcon-1941-film.txt',\n",
    "                     'https://d17h27t6h515a5.cloudfront.net/topher/2017/September/59ad9909_29-12-years-a-slave-film/29-12-years-a-slave-film.txt',\n",
    "                     'https://d17h27t6h515a5.cloudfront.net/topher/2017/September/59ad9909_30-gravity-2013-film/30-gravity-2013-film.txt',\n",
    "                     'https://d17h27t6h515a5.cloudfront.net/topher/2017/September/59ad9909_31-sunset-boulevard-film/31-sunset-boulevard-film.txt',\n",
    "                     'https://d17h27t6h515a5.cloudfront.net/topher/2017/September/59ad990a_32-king-kong-1933-film/32-king-kong-1933-film.txt',\n",
    "                     'https://d17h27t6h515a5.cloudfront.net/topher/2017/September/59ad990a_33-spotlight-film/33-spotlight-film.txt',\n",
    "                     'https://d17h27t6h515a5.cloudfront.net/topher/2017/September/59ad990a_34-the-adventures-of-robin-hood/34-the-adventures-of-robin-hood.txt',\n",
    "                     'https://d17h27t6h515a5.cloudfront.net/topher/2017/September/59ad990b_35-rashomon/35-rashomon.txt',\n",
    "                     'https://d17h27t6h515a5.cloudfront.net/topher/2017/September/59ad990b_36-rear-window/36-rear-window.txt',\n",
    "                     'https://d17h27t6h515a5.cloudfront.net/topher/2017/September/59ad990b_37-selma-film/37-selma-film.txt',\n",
    "                     'https://d17h27t6h515a5.cloudfront.net/topher/2017/September/59ad990c_38-taxi-driver/38-taxi-driver.txt',\n",
    "                     'https://d17h27t6h515a5.cloudfront.net/topher/2017/September/59ad990c_39-toy-story-3/39-toy-story-3.txt',\n",
    "                     'https://d17h27t6h515a5.cloudfront.net/topher/2017/September/59ad990c_40-argo-2012-film/40-argo-2012-film.txt',\n",
    "                     'https://d17h27t6h515a5.cloudfront.net/topher/2017/September/59ad990d_41-toy-story-2/41-toy-story-2.txt',\n",
    "                     'https://d17h27t6h515a5.cloudfront.net/topher/2017/September/59ad990d_42-the-big-sick/42-the-big-sick.txt',\n",
    "                     'https://d17h27t6h515a5.cloudfront.net/topher/2017/September/59ad990d_43-bride-of-frankenstein/43-bride-of-frankenstein.txt',\n",
    "                     'https://d17h27t6h515a5.cloudfront.net/topher/2017/September/59ad990d_44-zootopia/44-zootopia.txt',\n",
    "                     'https://d17h27t6h515a5.cloudfront.net/topher/2017/September/59ad990e_45-m-1931-film/45-m-1931-film.txt',\n",
    "                     'https://d17h27t6h515a5.cloudfront.net/topher/2017/September/59ad990e_46-wonder-woman-2017-film/46-wonder-woman-2017-film.txt',\n",
    "                     'https://d17h27t6h515a5.cloudfront.net/topher/2017/September/59ad990e_48-alien-film/48-alien-film.txt',\n",
    "                     'https://d17h27t6h515a5.cloudfront.net/topher/2017/September/59ad990f_49-bicycle-thieves/49-bicycle-thieves.txt',\n",
    "                     'https://d17h27t6h515a5.cloudfront.net/topher/2017/September/59ad990f_50-seven-samurai/50-seven-samurai.txt',\n",
    "                     'https://d17h27t6h515a5.cloudfront.net/topher/2017/September/59ad990f_51-the-treasure-of-the-sierra-madre-film/51-the-treasure-of-the-sierra-madre-film.txt',\n",
    "                     'https://d17h27t6h515a5.cloudfront.net/topher/2017/September/59ad9910_52-up-2009-film/52-up-2009-film.txt',\n",
    "                     'https://d17h27t6h515a5.cloudfront.net/topher/2017/September/59ad9910_53-12-angry-men-1957-film/53-12-angry-men-1957-film.txt',\n",
    "                     'https://d17h27t6h515a5.cloudfront.net/topher/2017/September/59ad9910_54-the-400-blows/54-the-400-blows.txt',\n",
    "                     'https://d17h27t6h515a5.cloudfront.net/topher/2017/September/59ad9911_55-logan-film/55-logan-film.txt',\n",
    "                     'https://d17h27t6h515a5.cloudfront.net/topher/2017/September/59ad9911_57-army-of-shadows/57-army-of-shadows.txt',\n",
    "                     'https://d17h27t6h515a5.cloudfront.net/topher/2017/September/59ad9912_58-arrival-film/58-arrival-film.txt',\n",
    "                     'https://d17h27t6h515a5.cloudfront.net/topher/2017/September/59ad9912_59-baby-driver/59-baby-driver.txt',\n",
    "                     'https://d17h27t6h515a5.cloudfront.net/topher/2017/September/59ad9913_60-a-streetcar-named-desire-1951-film/60-a-streetcar-named-desire-1951-film.txt',\n",
    "                     'https://d17h27t6h515a5.cloudfront.net/topher/2017/September/59ad9913_61-the-night-of-the-hunter-film/61-the-night-of-the-hunter-film.txt',\n",
    "                     'https://d17h27t6h515a5.cloudfront.net/topher/2017/September/59ad9913_62-star-wars-the-force-awakens/62-star-wars-the-force-awakens.txt',\n",
    "                     'https://d17h27t6h515a5.cloudfront.net/topher/2017/September/59ad9913_63-manchester-by-the-sea-film/63-manchester-by-the-sea-film.txt',\n",
    "                     'https://d17h27t6h515a5.cloudfront.net/topher/2017/September/59ad9914_64-dr.-strangelove/64-dr.-strangelove.txt',\n",
    "                     'https://d17h27t6h515a5.cloudfront.net/topher/2017/September/59ad9914_66-vertigo-film/66-vertigo-film.txt',\n",
    "                     'https://d17h27t6h515a5.cloudfront.net/topher/2017/September/59ad9914_67-the-dark-knight-film/67-the-dark-knight-film.txt',\n",
    "                     'https://d17h27t6h515a5.cloudfront.net/topher/2017/September/59ad9915_68-touch-of-evil/68-touch-of-evil.txt',\n",
    "                     'https://d17h27t6h515a5.cloudfront.net/topher/2017/September/59ad9915_69-the-babadook/69-the-babadook.txt',\n",
    "                     'https://d17h27t6h515a5.cloudfront.net/topher/2017/September/59ad9915_72-rosemary27s-baby-film/72-rosemary27s-baby-film.txt',\n",
    "                     'https://d17h27t6h515a5.cloudfront.net/topher/2017/September/59ad9916_73-finding-nemo/73-finding-nemo.txt',\n",
    "                     'https://d17h27t6h515a5.cloudfront.net/topher/2017/September/59ad9916_74-brooklyn-film/74-brooklyn-film.txt',\n",
    "                     'https://d17h27t6h515a5.cloudfront.net/topher/2017/September/59ad9917_75-the-wrestler-2008-film/75-the-wrestler-2008-film.txt',\n",
    "                     'https://d17h27t6h515a5.cloudfront.net/topher/2017/September/59ad9917_77-l.a.-confidential-film/77-l.a.-confidential-film.txt',\n",
    "                     'https://d17h27t6h515a5.cloudfront.net/topher/2017/September/59ad9918_78-gone-with-the-wind-film/78-gone-with-the-wind-film.txt',\n",
    "                     'https://d17h27t6h515a5.cloudfront.net/topher/2017/September/59ad9918_79-the-good-the-bad-and-the-ugly/79-the-good-the-bad-and-the-ugly.txt',\n",
    "                     'https://d17h27t6h515a5.cloudfront.net/topher/2017/September/59ad9918_80-skyfall/80-skyfall.txt',\n",
    "                     'https://d17h27t6h515a5.cloudfront.net/topher/2017/September/59ad9919_82-tokyo-story/82-tokyo-story.txt',\n",
    "                     'https://d17h27t6h515a5.cloudfront.net/topher/2017/September/59ad9919_83-hell-or-high-water-film/83-hell-or-high-water-film.txt',\n",
    "                     'https://d17h27t6h515a5.cloudfront.net/topher/2017/September/59ad9919_84-pinocchio-1940-film/84-pinocchio-1940-film.txt',\n",
    "                     'https://d17h27t6h515a5.cloudfront.net/topher/2017/September/59ad9919_85-the-jungle-book-2016-film/85-the-jungle-book-2016-film.txt',\n",
    "                     'https://d17h27t6h515a5.cloudfront.net/topher/2017/September/59ad991a_86-la-la-land-film/86-la-la-land-film.txt',\n",
    "                     'https://d17h27t6h515a5.cloudfront.net/topher/2017/September/59ad991b_87-star-trek-film/87-star-trek-film.txt',\n",
    "                     'https://d17h27t6h515a5.cloudfront.net/topher/2017/September/59ad991b_89-apocalypse-now/89-apocalypse-now.txt',\n",
    "                     'https://d17h27t6h515a5.cloudfront.net/topher/2017/September/59ad991c_90-on-the-waterfront/90-on-the-waterfront.txt',\n",
    "                     'https://d17h27t6h515a5.cloudfront.net/topher/2017/September/59ad991c_91-the-wages-of-fear/91-the-wages-of-fear.txt',\n",
    "                     'https://d17h27t6h515a5.cloudfront.net/topher/2017/September/59ad991c_92-the-last-picture-show/92-the-last-picture-show.txt',\n",
    "                     'https://d17h27t6h515a5.cloudfront.net/topher/2017/September/59ad991d_93-harry-potter-and-the-deathly-hallows-part-2/93-harry-potter-and-the-deathly-hallows-part-2.txt',\n",
    "                     'https://d17h27t6h515a5.cloudfront.net/topher/2017/September/59ad991d_94-the-grapes-of-wrath-film/94-the-grapes-of-wrath-film.txt',\n",
    "                     'https://d17h27t6h515a5.cloudfront.net/topher/2017/September/59ad991d_96-man-on-wire/96-man-on-wire.txt',\n",
    "                     'https://d17h27t6h515a5.cloudfront.net/topher/2017/September/59ad991e_97-jaws-film/97-jaws-film.txt',\n",
    "                     'https://d17h27t6h515a5.cloudfront.net/topher/2017/September/59ad991e_98-toy-story/98-toy-story.txt',\n",
    "                     'https://d17h27t6h515a5.cloudfront.net/topher/2017/September/59ad991e_99-the-godfather-part-ii/99-the-godfather-part-ii.txt',\n",
    "                     'https://d17h27t6h515a5.cloudfront.net/topher/2017/September/59ad991e_100-battleship-potemkin/100-battleship-potemkin.txt']"
   ]
  },
  {
   "cell_type": "code",
   "execution_count": 19,
   "metadata": {},
   "outputs": [],
   "source": [
    "folder_name = './data/ebert_reviews'\n",
    "\n",
    "if not os.path.exists(folder_name):\n",
    "    os.makedirs(folder_name)\n",
    "\n",
    "for url in ebert_review_urls:\n",
    "    response = requests.get(url)\n",
    "    with open(os.path.join(folder_name, url.split('/')[-1]), 'wb') as file:\n",
    "        file.write(response.content)"
   ]
  },
  {
   "cell_type": "code",
   "execution_count": 20,
   "metadata": {},
   "outputs": [
    {
     "data": {
      "text/plain": [
       "88"
      ]
     },
     "execution_count": 20,
     "metadata": {},
     "output_type": "execute_result"
    }
   ],
   "source": [
    "len(os.listdir(folder_name))"
   ]
  },
  {
   "cell_type": "markdown",
   "metadata": {},
   "source": [
    "### Text Files in Python"
   ]
  },
  {
   "cell_type": "code",
   "execution_count": 21,
   "metadata": {},
   "outputs": [],
   "source": [
    "import glob"
   ]
  },
  {
   "cell_type": "code",
   "execution_count": 52,
   "metadata": {},
   "outputs": [],
   "source": [
    "# golb.glob -> Return a list of paths matching a pathname pattern.\n",
    "# if you want to know the page's encoding -> form inspect search for charset\n",
    "df_list_glob = []\n",
    "for ebert_review in glob.glob('./data/ebert_reviews/*.txt'):\n",
    "    with open(ebert_review, encoding='utf-8') as file:\n",
    "        title = file.readline()[:-1]\n",
    "        review_url = file.readline()[:-1]\n",
    "        review_text = file.read()\n",
    "        df_list_glob.append({\"title\": title,\n",
    "                       \"review_url\": review_url,\n",
    "                       \"review_text\": review_text})"
   ]
  },
  {
   "cell_type": "code",
   "execution_count": 53,
   "metadata": {},
   "outputs": [],
   "source": [
    "df_glob = pd.DataFrame(df_list_glob, columns={'title', 'review_url', 'review_text'})"
   ]
  },
  {
   "cell_type": "code",
   "execution_count": 54,
   "metadata": {},
   "outputs": [
    {
     "data": {
      "text/html": [
       "<div>\n",
       "<style scoped>\n",
       "    .dataframe tbody tr th:only-of-type {\n",
       "        vertical-align: middle;\n",
       "    }\n",
       "\n",
       "    .dataframe tbody tr th {\n",
       "        vertical-align: top;\n",
       "    }\n",
       "\n",
       "    .dataframe thead th {\n",
       "        text-align: right;\n",
       "    }\n",
       "</style>\n",
       "<table border=\"1\" class=\"dataframe\">\n",
       "  <thead>\n",
       "    <tr style=\"text-align: right;\">\n",
       "      <th></th>\n",
       "      <th>title</th>\n",
       "      <th>review_text</th>\n",
       "      <th>review_url</th>\n",
       "    </tr>\n",
       "  </thead>\n",
       "  <tbody>\n",
       "    <tr>\n",
       "      <th>0</th>\n",
       "      <td>The Wizard of Oz (1939)</td>\n",
       "      <td>As a child I simply did not notice whether a m...</td>\n",
       "      <td>http://www.rogerebert.com/reviews/great-movie-...</td>\n",
       "    </tr>\n",
       "    <tr>\n",
       "      <th>1</th>\n",
       "      <td>Metropolis (1927)</td>\n",
       "      <td>The opening shots of the restored “Metropolis”...</td>\n",
       "      <td>http://www.rogerebert.com/reviews/great-movie-...</td>\n",
       "    </tr>\n",
       "    <tr>\n",
       "      <th>2</th>\n",
       "      <td>Battleship Potemkin (1925)</td>\n",
       "      <td>\"The Battleship Potemkin” has been so famous f...</td>\n",
       "      <td>http://www.rogerebert.com/reviews/great-movie-...</td>\n",
       "    </tr>\n",
       "    <tr>\n",
       "      <th>3</th>\n",
       "      <td>E.T. The Extra-Terrestrial (1982)</td>\n",
       "      <td>Dear Raven and Emil:\\n\\nSunday we sat on the b...</td>\n",
       "      <td>http://www.rogerebert.com/reviews/great-movie-...</td>\n",
       "    </tr>\n",
       "    <tr>\n",
       "      <th>4</th>\n",
       "      <td>Modern Times (1936)</td>\n",
       "      <td>A lot of movies are said to be timeless, but s...</td>\n",
       "      <td>http://www.rogerebert.com/reviews/modern-times...</td>\n",
       "    </tr>\n",
       "  </tbody>\n",
       "</table>\n",
       "</div>"
      ],
      "text/plain": [
       "                               title  \\\n",
       "0            The Wizard of Oz (1939)   \n",
       "1                  Metropolis (1927)   \n",
       "2         Battleship Potemkin (1925)   \n",
       "3  E.T. The Extra-Terrestrial (1982)   \n",
       "4                Modern Times (1936)   \n",
       "\n",
       "                                         review_text  \\\n",
       "0  As a child I simply did not notice whether a m...   \n",
       "1  The opening shots of the restored “Metropolis”...   \n",
       "2  \"The Battleship Potemkin” has been so famous f...   \n",
       "3  Dear Raven and Emil:\\n\\nSunday we sat on the b...   \n",
       "4  A lot of movies are said to be timeless, but s...   \n",
       "\n",
       "                                          review_url  \n",
       "0  http://www.rogerebert.com/reviews/great-movie-...  \n",
       "1  http://www.rogerebert.com/reviews/great-movie-...  \n",
       "2  http://www.rogerebert.com/reviews/great-movie-...  \n",
       "3  http://www.rogerebert.com/reviews/great-movie-...  \n",
       "4  http://www.rogerebert.com/reviews/modern-times...  "
      ]
     },
     "execution_count": 54,
     "metadata": {},
     "output_type": "execute_result"
    }
   ],
   "source": [
    "df_glob.head()"
   ]
  },
  {
   "cell_type": "markdown",
   "metadata": {},
   "source": [
    "### APIs (Application Programming Interfaces)\n",
    "### Quiz\n",
    "**In the Jupyter Notebook below, get the page object for the E.T. The Extra-Terrestial Wikipedia page. Here is the E.T. Wikipedia page for easy reference.**"
   ]
  },
  {
   "cell_type": "code",
   "execution_count": 25,
   "metadata": {
    "scrolled": true
   },
   "outputs": [],
   "source": [
    "import wptools"
   ]
  },
  {
   "cell_type": "code",
   "execution_count": 26,
   "metadata": {},
   "outputs": [
    {
     "name": "stderr",
     "output_type": "stream",
     "text": [
      "en.wikipedia.org (query) E.T._the_Extra-Terrestrial\n",
      "en.wikipedia.org (query) E.T. the Extra-Terrestrial (&plcontinue=...\n",
      "en.wikipedia.org (parse) 73441\n",
      "www.wikidata.org (wikidata) Q11621\n",
      "www.wikidata.org (labels) P3143|P2047|Q21571487|P4276|Q723685|P34...\n",
      "www.wikidata.org (labels) P6262|P646|Q435696|P272|Q787098|Q104418...\n",
      "www.wikidata.org (labels) P5099|P6562|P577|Q787127|P3135|P3141|P6...\n",
      "www.wikidata.org (labels) P1343|P57|Q1270715|Q8555|P1981|Q491|Q91...\n",
      "www.wikidata.org (labels) Q1422140|Q34644|Q105641628|P373|P3203|P...\n",
      "en.wikipedia.org (restbase) /page/summary/E.T._the_Extra-Terrestrial\n",
      "en.wikipedia.org (imageinfo) File:ET logo 3.svg|File:E t the extr...\n",
      "E.T. the Extra-Terrestrial (en) data\n",
      "{\n",
      "  WARNINGS: <dict(1)> extracts\n",
      "  aliases: <list(2)> E.T., ET\n",
      "  assessments: <dict(4)> United States, Film, Science Fiction, Lib...\n",
      "  claims: <dict(120)> P1562, P57, P272, P345, P31, P161, P373, P48...\n",
      "  description: 1982 film by Steven Spielberg\n",
      "  exhtml: <str(370)> <p><i><b>E.T. the Extra-Terrestrial</b></i> i...\n",
      "  exrest: <str(349)> E.T. the Extra-Terrestrial is a 1982 American...\n",
      "  extext: <str(1575)> _**E.T. the Extra-Terrestrial**_ is a 1982 A...\n",
      "  extract: <str(2751)> <p class=\"mw-empty-elt\"></p><p><i><b>E.T. t...\n",
      "  image: <list(4)> {'kind': 'parse-image', 'file': 'File:E t the e...\n",
      "  infobox: <dict(18)> name, image, caption, director, producers, w...\n",
      "  iwlinks: <list(6)> https://commons.wikimedia.org/wiki/Category:E...\n",
      "  label: E.T. the Extra-Terrestrial\n",
      "  labels: <dict(238)> P3143, P2047, Q21571487, P4276, Q723685, P34...\n",
      "  length: 94,607\n",
      "  links: <list(564)> 12 Angry Men (1957 film), 12 Monkeys, 12 Year...\n",
      "  modified: <dict(2)> page, wikidata\n",
      "  pageid: 73441\n",
      "  parsetree: <str(116039)> <root><template><title>short descriptio...\n",
      "  random: Grey oak\n",
      "  redirects: <list(37)> {'pageid': 177061, 'ns': 0, 'title': 'E.T....\n",
      "  requests: <list(11)> query, query, parse, wikidata, labels, labe...\n",
      "  title: E.T._the_Extra-Terrestrial\n",
      "  url: https://en.wikipedia.org/wiki/E.T._the_Extra-Terrestrial\n",
      "  url_raw: <str(67)> https://en.wikipedia.org/wiki/E.T._the_Extra-...\n",
      "  watchers: 337\n",
      "  what: film\n",
      "  wikibase: Q11621\n",
      "  wikidata: <dict(120)> AllMovie title ID (P1562), director (P57),...\n",
      "  wikidata_pageid: 13150\n",
      "  wikidata_url: https://www.wikidata.org/wiki/Q11621\n",
      "  wikitext: <str(94282)> {{short description|1982 film by Steven S...\n",
      "}\n"
     ]
    }
   ],
   "source": [
    "# Your code here: get the E.T. page object\n",
    "# This cell make take a few seconds to run\n",
    "page = wptools.page('E.T._the_Extra-Terrestrial').get()"
   ]
  },
  {
   "cell_type": "code",
   "execution_count": 27,
   "metadata": {},
   "outputs": [],
   "source": [
    "# Accessing the image attribute will return the images for this page\n",
    "image_data = page.data['image']"
   ]
  },
  {
   "cell_type": "markdown",
   "metadata": {},
   "source": [
    "### JSON Files in Python"
   ]
  },
  {
   "cell_type": "code",
   "execution_count": 28,
   "metadata": {},
   "outputs": [
    {
     "data": {
      "text/plain": [
       "'https://upload.wikimedia.org/wikipedia/en/6/66/E_t_the_extra_terrestrial_ver3.jpg'"
      ]
     },
     "execution_count": 28,
     "metadata": {},
     "output_type": "execute_result"
    }
   ],
   "source": [
    "# JSON arrays are interpreted as lists\n",
    "# JSON objects are interpreted as dictionaries\n",
    "\n",
    "# Access the first image in the images attribute, which is a JSON array.\n",
    "moive_image = image_data[0]\n",
    "image_data[0]['url']"
   ]
  },
  {
   "cell_type": "code",
   "execution_count": 29,
   "metadata": {},
   "outputs": [
    {
     "data": {
      "text/plain": [
       "'[[Steven Spielberg]]'"
      ]
     },
     "execution_count": 29,
     "metadata": {},
     "output_type": "execute_result"
    }
   ],
   "source": [
    "#Access the director key of the infobox attribute, which is a JSON object.\n",
    "page.data['infobox']['director']"
   ]
  },
  {
   "cell_type": "markdown",
   "metadata": {},
   "source": [
    "### Quiz\n",
    "**Let's gather the last piece of data for the Roger Ebert review word clouds now: the movie poster image files. Let's also keep each image's URL to add to the master DataFrame later.**\n",
    "\n",
    "**Though we're going to use a loop to minimize repetition, here's how the major parts inside that loop will work, in order:**\n",
    "\n",
    "**We're going to query the MediaWiki API using wptools to get a movie poster URL via each page object's image attribute.\n",
    "Using that URL, we'll programmatically download that image into a folder called bestofrt_posters.**"
   ]
  },
  {
   "cell_type": "code",
   "execution_count": 30,
   "metadata": {},
   "outputs": [],
   "source": [
    "import pandas as pd\n",
    "import wptools\n",
    "import os\n",
    "import requests\n",
    "from PIL import Image\n",
    "from io import BytesIO"
   ]
  },
  {
   "cell_type": "code",
   "execution_count": 31,
   "metadata": {},
   "outputs": [],
   "source": [
    "title_list = [\n",
    " 'The_Wizard_of_Oz_(1939_film)',\n",
    " 'Citizen_Kane',\n",
    " 'The_Third_Man',\n",
    " 'Get_Out_(film)',\n",
    " 'Mad_Max:_Fury_Road',\n",
    " 'The_Cabinet_of_Dr._Caligari',\n",
    " 'All_About_Eve',\n",
    " 'Inside_Out_(2015_film)',\n",
    " 'The_Godfather',\n",
    " 'Metropolis_(1927_film)',\n",
    " 'E.T._the_Extra-Terrestrial',\n",
    " 'Modern_Times_(film)',\n",
    " 'It_Happened_One_Night',\n",
    " \"Singin'_in_the_Rain\",\n",
    " 'Boyhood_(film)',\n",
    " 'Casablanca_(film)',\n",
    " 'Moonlight_(2016_film)',\n",
    " 'Psycho_(1960_film)',\n",
    " 'Laura_(1944_film)',\n",
    " 'Nosferatu',\n",
    " 'Snow_White_and_the_Seven_Dwarfs_(1937_film)',\n",
    " \"A_Hard_Day%27s_Night_(film)\",\n",
    " 'La_Grande_Illusion',\n",
    " 'North_by_Northwest',\n",
    " 'The_Battle_of_Algiers',\n",
    " 'Dunkirk_(2017_film)',\n",
    " 'The_Maltese_Falcon_(1941_film)',\n",
    " 'Repulsion_(film)',\n",
    " '12_Years_a_Slave_(film)',\n",
    " 'Gravity_(2013_film)',\n",
    " 'Sunset_Boulevard_(film)',\n",
    " 'King_Kong_(1933_film)',\n",
    " 'Spotlight_(film)',\n",
    " 'The_Adventures_of_Robin_Hood',\n",
    " 'Rashomon',\n",
    " 'Rear_Window',\n",
    " 'Selma_(film)',\n",
    " 'Taxi_Driver',\n",
    " 'Toy_Story_3',\n",
    " 'Argo_(2012_film)',\n",
    " 'Toy_Story_2',\n",
    " 'The_Big_Sick',\n",
    " 'Bride_of_Frankenstein',\n",
    " 'Zootopia',\n",
    " 'M_(1931_film)',\n",
    " 'Wonder_Woman_(2017_film)',\n",
    " 'The_Philadelphia_Story_(film)',\n",
    " 'Alien_(film)',\n",
    " 'Bicycle_Thieves',\n",
    " 'Seven_Samurai',\n",
    " 'The_Treasure_of_the_Sierra_Madre_(film)',\n",
    " 'Up_(2009_film)',\n",
    " '12_Angry_Men_(1957_film)',\n",
    " 'The_400_Blows',\n",
    " 'Logan_(film)',\n",
    " 'All_Quiet_on_the_Western_Front_(1930_film)',\n",
    " 'Army_of_Shadows',\n",
    " 'Arrival_(film)',\n",
    " 'Baby_Driver',\n",
    " 'A_Streetcar_Named_Desire_(1951_film)',\n",
    " 'The_Night_of_the_Hunter_(film)',\n",
    " 'Star_Wars:_The_Force_Awakens',\n",
    " 'Manchester_by_the_Sea_(film)',\n",
    " 'Dr._Strangelove',\n",
    " 'Frankenstein_(1931_film)',\n",
    " 'Vertigo_(film)',\n",
    " 'The_Dark_Knight_(film)',\n",
    " 'Touch_of_Evil',\n",
    " 'The_Babadook',\n",
    " 'The_Conformist_(film)',\n",
    " 'Rebecca_(1940_film)',\n",
    " \"Rosemary%27s_Baby_(film)\",\n",
    " 'Finding_Nemo',\n",
    " 'Brooklyn_(film)',\n",
    " 'The_Wrestler_(2008_film)',\n",
    " 'The_39_Steps_(1935_film)',\n",
    " 'L.A._Confidential_(film)',\n",
    " 'Gone_with_the_Wind_(film)',\n",
    " 'The_Good,_the_Bad_and_the_Ugly',\n",
    " 'Skyfall',\n",
    " 'Rome,_Open_City',\n",
    " 'Tokyo_Story',\n",
    " 'Hell_or_High_Water_(film)',\n",
    " 'Pinocchio_(1940_film)',\n",
    " 'The_Jungle_Book_(2016_film)',\n",
    " 'La_La_Land_(film)',\n",
    " 'Star_Trek_(film)',\n",
    " 'High_Noon',\n",
    " 'Apocalypse_Now',\n",
    " 'On_the_Waterfront',\n",
    " 'The_Wages_of_Fear',\n",
    " 'The_Last_Picture_Show',\n",
    " 'Harry_Potter_and_the_Deathly_Hallows_–_Part_2',\n",
    " 'The_Grapes_of_Wrath_(film)',\n",
    " 'Roman_Holiday',\n",
    " 'Man_on_Wire',\n",
    " 'Jaws_(film)',\n",
    " 'Toy_Story',\n",
    " 'The_Godfather_Part_II',\n",
    " 'Battleship_Potemkin'\n",
    "]"
   ]
  },
  {
   "cell_type": "code",
   "execution_count": 32,
   "metadata": {},
   "outputs": [],
   "source": [
    "folder_name = './data/bestofrt_posters'\n",
    "# Make directory if it doesn't already exis\n",
    "if not os.path.exists(folder_name):\n",
    "    os.makedirs(folder_name)"
   ]
  },
  {
   "cell_type": "markdown",
   "metadata": {},
   "source": [
    "**Note: the cell below, if correctly implemented, will likely take ~5 minutes to run.**"
   ]
  },
  {
   "cell_type": "code",
   "execution_count": 36,
   "metadata": {
    "scrolled": true
   },
   "outputs": [
    {
     "name": "stdout",
     "output_type": "stream",
     "text": [
      "1\n",
      "2\n",
      "3\n",
      "4\n",
      "5\n",
      "6\n",
      "7\n",
      "8\n",
      "9\n",
      "10\n",
      "11\n",
      "12\n",
      "13\n",
      "14\n",
      "15\n",
      "16\n",
      "17\n",
      "18\n",
      "19\n",
      "20\n",
      "21\n",
      "22\n"
     ]
    },
    {
     "name": "stderr",
     "output_type": "stream",
     "text": [
      "API error: {'code': 'invalidtitle', 'info': 'Bad title \"A_Hard_Day%27s_Night_(film)\".', 'docref': 'See https://en.wikipedia.org/w/api.php for API usage. Subscribe to the mediawiki-api-announce mailing list at &lt;https://lists.wikimedia.org/mailman/listinfo/mediawiki-api-announce&gt; for notice of API deprecations and breaking changes.'}\n"
     ]
    },
    {
     "name": "stdout",
     "output_type": "stream",
     "text": [
      "22_A_Hard_Day%27s_Night_(film): https://en.wikipedia.org/w/api.php?action=parse&formatversion=2&contentmodel=text&disableeditsection=&disablelimitreport=&disabletoc=&prop=text|iwlinks|parsetree|wikitext|displaytitle|properties&redirects&page=A_Hard_Day%2527s_Night_%28film%29\n",
      "23\n",
      "24\n",
      "25\n",
      "26\n",
      "27\n",
      "28\n",
      "29\n",
      "30\n",
      "31\n",
      "32\n",
      "33\n",
      "34\n",
      "35\n",
      "36\n",
      "37\n",
      "38\n",
      "39\n",
      "40\n",
      "40_Argo_(2012_film): https://en.wikipedia.org/w/api.php?action=query&exintro&formatversion=2&inprop=url|watchers&list=random&pithumbsize=240&pllimit=500&ppprop=disambiguation|wikibase_item&prop=extracts|info|links|pageassessments|pageimages|pageprops|pageterms|redirects&redirects&rdlimit=500&rnlimit=1&rnnamespace=0&titles=Argo%20%282012%20film%29&plcontinue=33028800|0|Gaza_War_(2008–2009)\n",
      "41\n",
      "42\n",
      "43\n",
      "44\n",
      "45\n",
      "46\n",
      "47\n",
      "48\n",
      "49\n",
      "50\n",
      "51\n",
      "52\n",
      "53\n",
      "54\n",
      "55\n",
      "56\n",
      "57\n",
      "58\n",
      "59\n",
      "60\n",
      "61\n",
      "62\n",
      "63\n",
      "64\n",
      "65\n",
      "66\n",
      "67\n",
      "68\n",
      "69\n",
      "70\n",
      "71\n",
      "72\n"
     ]
    },
    {
     "name": "stderr",
     "output_type": "stream",
     "text": [
      "API error: {'code': 'invalidtitle', 'info': 'Bad title \"Rosemary%27s_Baby_(film)\".', 'docref': 'See https://en.wikipedia.org/w/api.php for API usage. Subscribe to the mediawiki-api-announce mailing list at &lt;https://lists.wikimedia.org/mailman/listinfo/mediawiki-api-announce&gt; for notice of API deprecations and breaking changes.'}\n"
     ]
    },
    {
     "name": "stdout",
     "output_type": "stream",
     "text": [
      "72_Rosemary%27s_Baby_(film): https://en.wikipedia.org/w/api.php?action=parse&formatversion=2&contentmodel=text&disableeditsection=&disablelimitreport=&disabletoc=&prop=text|iwlinks|parsetree|wikitext|displaytitle|properties&redirects&page=Rosemary%2527s_Baby_%28film%29\n",
      "73\n",
      "74\n",
      "75\n",
      "76\n",
      "77\n",
      "78\n",
      "79\n",
      "80\n",
      "81\n",
      "82\n",
      "82_Tokyo_Story: (28, 'Failed to connect to www.wikidata.org port 443: Timed out')\n",
      "83\n",
      "84\n",
      "84_Pinocchio_(1940_film): (35, 'schannel: failed to receive handshake, SSL/TLS connection failed')\n",
      "85\n",
      "85_The_Jungle_Book_(2016_film): (56, 'Send failure: Connection was reset')\n",
      "86\n",
      "86_La_La_Land_(film): (35, 'schannel: failed to receive handshake, SSL/TLS connection failed')\n",
      "87\n",
      "88\n",
      "89\n",
      "90\n",
      "91\n",
      "92\n",
      "93\n",
      "94\n",
      "95\n",
      "96\n",
      "97\n",
      "98\n",
      "99\n",
      "100\n"
     ]
    }
   ],
   "source": [
    "# List of dictionaries to build and convert to a DataFrame later\n",
    "df_list = []\n",
    "image_errors = {}\n",
    "for title in title_list:\n",
    "    try:\n",
    "        # This cell is slow so print ranking to gauge time remaining\n",
    "        # Ranking is needed so we can join this DataFrame with the master DataFrame later. \n",
    "        # We can't join on title because the titles of the Rotten Tomatoes pages and the Wikipedia pages differ\n",
    "        ranking = title_list.index(title) + 1\n",
    "        print(ranking)\n",
    "        page = wptools.page(title, silent=True)\n",
    "        # Your code here (three lines)\n",
    "        images = page.get().data['image']\n",
    "        # First image is usually the poster\n",
    "        first_image_url = images[0]['url']\n",
    "        r = requests.get(first_image_url)\n",
    "        # Download movie poster image\n",
    "        i = Image.open(BytesIO(r.content))\n",
    "        image_file_format = first_image_url.split('.')[-1]\n",
    "        i.save(folder_name + \"/\" + str(ranking) + \"_\" + title + '.' + image_file_format)\n",
    "        # Append to list of dictionaries\n",
    "        df_list.append({'ranking': int(ranking),\n",
    "                        'title': title,\n",
    "                        'poster_url': first_image_url})\n",
    "    \n",
    "    # Not best practice to catch all exceptions but fine for this short script\n",
    "    except Exception as e:\n",
    "        print(str(ranking) + \"_\" + title + \": \" + str(e))\n",
    "        image_errors[str(ranking) + \"_\" + title] = images"
   ]
  },
  {
   "cell_type": "code",
   "execution_count": 37,
   "metadata": {},
   "outputs": [
    {
     "name": "stdout",
     "output_type": "stream",
     "text": [
      "22_A_Hard_Day%27s_Night_(film)\n",
      "40_Argo_(2012_film)\n",
      "72_Rosemary%27s_Baby_(film)\n",
      "82_Tokyo_Story\n",
      "84_Pinocchio_(1940_film)\n",
      "85_The_Jungle_Book_(2016_film)\n",
      "86_La_La_Land_(film)\n"
     ]
    }
   ],
   "source": [
    "for key in image_errors.keys():\n",
    "    print(key)"
   ]
  },
  {
   "cell_type": "code",
   "execution_count": 38,
   "metadata": {},
   "outputs": [],
   "source": [
    "# Inspect unidentifiable images and download them individually\n",
    "for rank_title, images in image_errors.items():\n",
    "    if rank_title  == '22_A_Hard_Day%27s_Night_(film)':\n",
    "        url = 'https://upload.wikimedia.org/wikipedia/en/4/47/A_Hard_Days_night_movieposter.jpg'\n",
    "    if rank_title == '53_12_Angry_Men_(1957_film)':\n",
    "        url = 'https://upload.wikimedia.org/wikipedia/en/9/91/12_angry_men.jpg'\n",
    "    if rank_title == '72_Rosemary%27s_Baby_(film)':\n",
    "        url = 'https://upload.wikimedia.org/wikipedia/en/e/ef/Rosemarys_baby_poster.jpg'\n",
    "    if rank_title == '93_Harry_Potter_and_the_Deathly_Hallows_–_Part_2':\n",
    "        url = 'https://upload.wikimedia.org/wikipedia/en/d/df/Harry_Potter_and_the_Deathly_Hallows_%E2%80%93_Part_2.jpg'\n",
    "    title = rank_title[3:]\n",
    "    df_list.append({\n",
    "        'ranking': int(title_list.index(title) + 1),\n",
    "        'title': title,\n",
    "        'poster_url': url\n",
    "    })\n",
    "    \n",
    "    r = requests.get(url)\n",
    "    # Download movie poster image\n",
    "    i = Image.open(BytesIO(r.content))\n",
    "    image_file_format = url.split('.')[-1]\n",
    "    i.save(folder_name + \"/\" + rank_title + '.' + image_file_format)"
   ]
  },
  {
   "cell_type": "code",
   "execution_count": 45,
   "metadata": {},
   "outputs": [
    {
     "data": {
      "text/html": [
       "<div>\n",
       "<style scoped>\n",
       "    .dataframe tbody tr th:only-of-type {\n",
       "        vertical-align: middle;\n",
       "    }\n",
       "\n",
       "    .dataframe tbody tr th {\n",
       "        vertical-align: top;\n",
       "    }\n",
       "\n",
       "    .dataframe thead th {\n",
       "        text-align: right;\n",
       "    }\n",
       "</style>\n",
       "<table border=\"1\" class=\"dataframe\">\n",
       "  <thead>\n",
       "    <tr style=\"text-align: right;\">\n",
       "      <th></th>\n",
       "      <th>ranking</th>\n",
       "      <th>title</th>\n",
       "      <th>poster_url</th>\n",
       "    </tr>\n",
       "  </thead>\n",
       "  <tbody>\n",
       "    <tr>\n",
       "      <th>0</th>\n",
       "      <td>1</td>\n",
       "      <td>The_Wizard_of_Oz_(1939_film)</td>\n",
       "      <td>https://upload.wikimedia.org/wikipedia/commons...</td>\n",
       "    </tr>\n",
       "    <tr>\n",
       "      <th>1</th>\n",
       "      <td>2</td>\n",
       "      <td>Citizen_Kane</td>\n",
       "      <td>https://upload.wikimedia.org/wikipedia/commons...</td>\n",
       "    </tr>\n",
       "    <tr>\n",
       "      <th>2</th>\n",
       "      <td>3</td>\n",
       "      <td>The_Third_Man</td>\n",
       "      <td>https://upload.wikimedia.org/wikipedia/commons...</td>\n",
       "    </tr>\n",
       "    <tr>\n",
       "      <th>3</th>\n",
       "      <td>4</td>\n",
       "      <td>Get_Out_(film)</td>\n",
       "      <td>https://upload.wikimedia.org/wikipedia/en/a/a3...</td>\n",
       "    </tr>\n",
       "    <tr>\n",
       "      <th>4</th>\n",
       "      <td>5</td>\n",
       "      <td>Mad_Max:_Fury_Road</td>\n",
       "      <td>https://upload.wikimedia.org/wikipedia/en/6/6e...</td>\n",
       "    </tr>\n",
       "    <tr>\n",
       "      <th>...</th>\n",
       "      <td>...</td>\n",
       "      <td>...</td>\n",
       "      <td>...</td>\n",
       "    </tr>\n",
       "    <tr>\n",
       "      <th>95</th>\n",
       "      <td>96</td>\n",
       "      <td>Man_on_Wire</td>\n",
       "      <td>https://upload.wikimedia.org/wikipedia/en/5/54...</td>\n",
       "    </tr>\n",
       "    <tr>\n",
       "      <th>96</th>\n",
       "      <td>97</td>\n",
       "      <td>Jaws_(film)</td>\n",
       "      <td>https://upload.wikimedia.org/wikipedia/en/e/eb...</td>\n",
       "    </tr>\n",
       "    <tr>\n",
       "      <th>97</th>\n",
       "      <td>98</td>\n",
       "      <td>Toy_Story</td>\n",
       "      <td>https://upload.wikimedia.org/wikipedia/en/1/13...</td>\n",
       "    </tr>\n",
       "    <tr>\n",
       "      <th>98</th>\n",
       "      <td>99</td>\n",
       "      <td>The_Godfather_Part_II</td>\n",
       "      <td>https://upload.wikimedia.org/wikipedia/en/0/03...</td>\n",
       "    </tr>\n",
       "    <tr>\n",
       "      <th>99</th>\n",
       "      <td>100</td>\n",
       "      <td>Battleship_Potemkin</td>\n",
       "      <td>https://upload.wikimedia.org/wikipedia/commons...</td>\n",
       "    </tr>\n",
       "  </tbody>\n",
       "</table>\n",
       "<p>100 rows × 3 columns</p>\n",
       "</div>"
      ],
      "text/plain": [
       "    ranking                         title  \\\n",
       "0         1  The_Wizard_of_Oz_(1939_film)   \n",
       "1         2                  Citizen_Kane   \n",
       "2         3                 The_Third_Man   \n",
       "3         4                Get_Out_(film)   \n",
       "4         5            Mad_Max:_Fury_Road   \n",
       "..      ...                           ...   \n",
       "95       96                   Man_on_Wire   \n",
       "96       97                   Jaws_(film)   \n",
       "97       98                     Toy_Story   \n",
       "98       99         The_Godfather_Part_II   \n",
       "99      100           Battleship_Potemkin   \n",
       "\n",
       "                                           poster_url  \n",
       "0   https://upload.wikimedia.org/wikipedia/commons...  \n",
       "1   https://upload.wikimedia.org/wikipedia/commons...  \n",
       "2   https://upload.wikimedia.org/wikipedia/commons...  \n",
       "3   https://upload.wikimedia.org/wikipedia/en/a/a3...  \n",
       "4   https://upload.wikimedia.org/wikipedia/en/6/6e...  \n",
       "..                                                ...  \n",
       "95  https://upload.wikimedia.org/wikipedia/en/5/54...  \n",
       "96  https://upload.wikimedia.org/wikipedia/en/e/eb...  \n",
       "97  https://upload.wikimedia.org/wikipedia/en/1/13...  \n",
       "98  https://upload.wikimedia.org/wikipedia/en/0/03...  \n",
       "99  https://upload.wikimedia.org/wikipedia/commons...  \n",
       "\n",
       "[100 rows x 3 columns]"
      ]
     },
     "execution_count": 45,
     "metadata": {},
     "output_type": "execute_result"
    }
   ],
   "source": [
    "# Create DataFrame from list of dictionaries\n",
    "df_json = pd.DataFrame(df_list, columns = ['ranking', 'title', 'poster_url'])\n",
    "df_json = df_json.sort_values('ranking').reset_index(drop=True)\n",
    "df_json"
   ]
  },
  {
   "cell_type": "code",
   "execution_count": 48,
   "metadata": {},
   "outputs": [
    {
     "data": {
      "text/html": [
       "<div>\n",
       "<style scoped>\n",
       "    .dataframe tbody tr th:only-of-type {\n",
       "        vertical-align: middle;\n",
       "    }\n",
       "\n",
       "    .dataframe tbody tr th {\n",
       "        vertical-align: top;\n",
       "    }\n",
       "\n",
       "    .dataframe thead th {\n",
       "        text-align: right;\n",
       "    }\n",
       "</style>\n",
       "<table border=\"1\" class=\"dataframe\">\n",
       "  <thead>\n",
       "    <tr style=\"text-align: right;\">\n",
       "      <th></th>\n",
       "      <th>title</th>\n",
       "      <th>audience_score</th>\n",
       "      <th>number_of_audience_ratings</th>\n",
       "    </tr>\n",
       "  </thead>\n",
       "  <tbody>\n",
       "    <tr>\n",
       "      <th>0</th>\n",
       "      <td>12 Angry Men (Twelve Angry Men) (1957)</td>\n",
       "      <td>97</td>\n",
       "      <td>103672</td>\n",
       "    </tr>\n",
       "    <tr>\n",
       "      <th>1</th>\n",
       "      <td>The 39 Steps (1935)</td>\n",
       "      <td>86</td>\n",
       "      <td>23647</td>\n",
       "    </tr>\n",
       "    <tr>\n",
       "      <th>2</th>\n",
       "      <td>The Adventures of Robin Hood (1938)</td>\n",
       "      <td>89</td>\n",
       "      <td>33584</td>\n",
       "    </tr>\n",
       "    <tr>\n",
       "      <th>3</th>\n",
       "      <td>All About Eve (1950)</td>\n",
       "      <td>94</td>\n",
       "      <td>44564</td>\n",
       "    </tr>\n",
       "    <tr>\n",
       "      <th>4</th>\n",
       "      <td>All Quiet on the Western Front (1930)</td>\n",
       "      <td>89</td>\n",
       "      <td>17768</td>\n",
       "    </tr>\n",
       "  </tbody>\n",
       "</table>\n",
       "</div>"
      ],
      "text/plain": [
       "                                    title  audience_score  \\\n",
       "0  12 Angry Men (Twelve Angry Men) (1957)              97   \n",
       "1                     The 39 Steps (1935)              86   \n",
       "2     The Adventures of Robin Hood (1938)              89   \n",
       "3                    All About Eve (1950)              94   \n",
       "4   All Quiet on the Western Front (1930)              89   \n",
       "\n",
       "   number_of_audience_ratings  \n",
       "0                      103672  \n",
       "1                       23647  \n",
       "2                       33584  \n",
       "3                       44564  \n",
       "4                       17768  "
      ]
     },
     "execution_count": 48,
     "metadata": {},
     "output_type": "execute_result"
    }
   ],
   "source": [
    "df_soup.head()"
   ]
  },
  {
   "cell_type": "code",
   "execution_count": 50,
   "metadata": {},
   "outputs": [
    {
     "data": {
      "text/html": [
       "<div>\n",
       "<style scoped>\n",
       "    .dataframe tbody tr th:only-of-type {\n",
       "        vertical-align: middle;\n",
       "    }\n",
       "\n",
       "    .dataframe tbody tr th {\n",
       "        vertical-align: top;\n",
       "    }\n",
       "\n",
       "    .dataframe thead th {\n",
       "        text-align: right;\n",
       "    }\n",
       "</style>\n",
       "<table border=\"1\" class=\"dataframe\">\n",
       "  <thead>\n",
       "    <tr style=\"text-align: right;\">\n",
       "      <th></th>\n",
       "      <th>ranking</th>\n",
       "      <th>title</th>\n",
       "      <th>poster_url</th>\n",
       "    </tr>\n",
       "  </thead>\n",
       "  <tbody>\n",
       "    <tr>\n",
       "      <th>0</th>\n",
       "      <td>1</td>\n",
       "      <td>The_Wizard_of_Oz_(1939_film)</td>\n",
       "      <td>https://upload.wikimedia.org/wikipedia/commons...</td>\n",
       "    </tr>\n",
       "    <tr>\n",
       "      <th>1</th>\n",
       "      <td>2</td>\n",
       "      <td>Citizen_Kane</td>\n",
       "      <td>https://upload.wikimedia.org/wikipedia/commons...</td>\n",
       "    </tr>\n",
       "    <tr>\n",
       "      <th>2</th>\n",
       "      <td>3</td>\n",
       "      <td>The_Third_Man</td>\n",
       "      <td>https://upload.wikimedia.org/wikipedia/commons...</td>\n",
       "    </tr>\n",
       "    <tr>\n",
       "      <th>3</th>\n",
       "      <td>4</td>\n",
       "      <td>Get_Out_(film)</td>\n",
       "      <td>https://upload.wikimedia.org/wikipedia/en/a/a3...</td>\n",
       "    </tr>\n",
       "    <tr>\n",
       "      <th>4</th>\n",
       "      <td>5</td>\n",
       "      <td>Mad_Max:_Fury_Road</td>\n",
       "      <td>https://upload.wikimedia.org/wikipedia/en/6/6e...</td>\n",
       "    </tr>\n",
       "  </tbody>\n",
       "</table>\n",
       "</div>"
      ],
      "text/plain": [
       "   ranking                         title  \\\n",
       "0        1  The_Wizard_of_Oz_(1939_film)   \n",
       "1        2                  Citizen_Kane   \n",
       "2        3                 The_Third_Man   \n",
       "3        4                Get_Out_(film)   \n",
       "4        5            Mad_Max:_Fury_Road   \n",
       "\n",
       "                                          poster_url  \n",
       "0  https://upload.wikimedia.org/wikipedia/commons...  \n",
       "1  https://upload.wikimedia.org/wikipedia/commons...  \n",
       "2  https://upload.wikimedia.org/wikipedia/commons...  \n",
       "3  https://upload.wikimedia.org/wikipedia/en/a/a3...  \n",
       "4  https://upload.wikimedia.org/wikipedia/en/6/6e...  "
      ]
     },
     "execution_count": 50,
     "metadata": {},
     "output_type": "execute_result"
    }
   ],
   "source": [
    "df_json.head()"
   ]
  },
  {
   "cell_type": "code",
   "execution_count": 55,
   "metadata": {},
   "outputs": [
    {
     "data": {
      "text/html": [
       "<div>\n",
       "<style scoped>\n",
       "    .dataframe tbody tr th:only-of-type {\n",
       "        vertical-align: middle;\n",
       "    }\n",
       "\n",
       "    .dataframe tbody tr th {\n",
       "        vertical-align: top;\n",
       "    }\n",
       "\n",
       "    .dataframe thead th {\n",
       "        text-align: right;\n",
       "    }\n",
       "</style>\n",
       "<table border=\"1\" class=\"dataframe\">\n",
       "  <thead>\n",
       "    <tr style=\"text-align: right;\">\n",
       "      <th></th>\n",
       "      <th>title</th>\n",
       "      <th>review_text</th>\n",
       "      <th>review_url</th>\n",
       "    </tr>\n",
       "  </thead>\n",
       "  <tbody>\n",
       "    <tr>\n",
       "      <th>0</th>\n",
       "      <td>The Wizard of Oz (1939)</td>\n",
       "      <td>As a child I simply did not notice whether a m...</td>\n",
       "      <td>http://www.rogerebert.com/reviews/great-movie-...</td>\n",
       "    </tr>\n",
       "    <tr>\n",
       "      <th>1</th>\n",
       "      <td>Metropolis (1927)</td>\n",
       "      <td>The opening shots of the restored “Metropolis”...</td>\n",
       "      <td>http://www.rogerebert.com/reviews/great-movie-...</td>\n",
       "    </tr>\n",
       "    <tr>\n",
       "      <th>2</th>\n",
       "      <td>Battleship Potemkin (1925)</td>\n",
       "      <td>\"The Battleship Potemkin” has been so famous f...</td>\n",
       "      <td>http://www.rogerebert.com/reviews/great-movie-...</td>\n",
       "    </tr>\n",
       "    <tr>\n",
       "      <th>3</th>\n",
       "      <td>E.T. The Extra-Terrestrial (1982)</td>\n",
       "      <td>Dear Raven and Emil:\\n\\nSunday we sat on the b...</td>\n",
       "      <td>http://www.rogerebert.com/reviews/great-movie-...</td>\n",
       "    </tr>\n",
       "    <tr>\n",
       "      <th>4</th>\n",
       "      <td>Modern Times (1936)</td>\n",
       "      <td>A lot of movies are said to be timeless, but s...</td>\n",
       "      <td>http://www.rogerebert.com/reviews/modern-times...</td>\n",
       "    </tr>\n",
       "  </tbody>\n",
       "</table>\n",
       "</div>"
      ],
      "text/plain": [
       "                               title  \\\n",
       "0            The Wizard of Oz (1939)   \n",
       "1                  Metropolis (1927)   \n",
       "2         Battleship Potemkin (1925)   \n",
       "3  E.T. The Extra-Terrestrial (1982)   \n",
       "4                Modern Times (1936)   \n",
       "\n",
       "                                         review_text  \\\n",
       "0  As a child I simply did not notice whether a m...   \n",
       "1  The opening shots of the restored “Metropolis”...   \n",
       "2  \"The Battleship Potemkin” has been so famous f...   \n",
       "3  Dear Raven and Emil:\\n\\nSunday we sat on the b...   \n",
       "4  A lot of movies are said to be timeless, but s...   \n",
       "\n",
       "                                          review_url  \n",
       "0  http://www.rogerebert.com/reviews/great-movie-...  \n",
       "1  http://www.rogerebert.com/reviews/great-movie-...  \n",
       "2  http://www.rogerebert.com/reviews/great-movie-...  \n",
       "3  http://www.rogerebert.com/reviews/great-movie-...  \n",
       "4  http://www.rogerebert.com/reviews/modern-times...  "
      ]
     },
     "execution_count": 55,
     "metadata": {},
     "output_type": "execute_result"
    }
   ],
   "source": [
    "df_glob.head()"
   ]
  },
  {
   "cell_type": "code",
   "execution_count": null,
   "metadata": {},
   "outputs": [],
   "source": [
    "# Now we have the following features -> \n",
    "# title, audience_score, number_of_audience_ratings, poster_url, ranking,  review_text, review_url\n"
   ]
  }
 ],
 "metadata": {
  "kernelspec": {
   "display_name": "Python 3",
   "language": "python",
   "name": "python3"
  },
  "language_info": {
   "codemirror_mode": {
    "name": "ipython",
    "version": 3
   },
   "file_extension": ".py",
   "mimetype": "text/x-python",
   "name": "python",
   "nbconvert_exporter": "python",
   "pygments_lexer": "ipython3",
   "version": "3.8.5"
  }
 },
 "nbformat": 4,
 "nbformat_minor": 4
}
